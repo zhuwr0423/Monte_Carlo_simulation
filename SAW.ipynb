{
 "cells": [
  {
   "cell_type": "markdown",
   "metadata": {},
   "source": [
    "1.ResampleNormalMul(N, sigma):\n",
    "\n",
    "a routine to use $N(0,1)$ to generate $N(0, \\sigma^{2})$ random variables via resample method using Multinormial for sampling $N^{(k)}$.\n",
    "\n",
    "Input: \n",
    "\n",
    "N: int. sample size\n",
    "\n",
    "sigma: float. scale in $N(0, \\sigma^{2})$\n",
    "\n",
    "Output:\n",
    "\n",
    "X: sequence of floats of length N. samples from $N(0, \\sigma^{2})$ random variables\n",
    "\n",
    "NRes: sequence of int of length N. resample results\n",
    "\n"
   ]
  },
  {
   "cell_type": "markdown",
   "metadata": {},
   "source": [
    "2.ResampleNormalAlt1(N, sigma):\n",
    "\n",
    "a routine to use $N(0,1)$ to generate $N(0, \\sigma^{2})$ random variables via resample method using alternative rule (3.5) for sampling N^{k}\n",
    "\n",
    "Input: \n",
    "\n",
    "N: int. sample size\n",
    "\n",
    "sigma: float. scale in $N(0, \\sigma^{2})$\n",
    "\n",
    "Output:\n",
    "\n",
    "X: sequence of floats of length N. samples from $N(0, \\sigma^{2})$ random variables\n",
    "\n",
    "NRes: sequence of int of length N. resample results\n",
    "\n"
   ]
  },
  {
   "cell_type": "markdown",
   "metadata": {},
   "source": [
    "3.ResampleNormalAlt2(N, sigma):\n",
    "\n",
    "a routine to use $N(0,1)$ to generate $N(0, \\sigma^{2})$ random variables via resample method using alternative rule (3.6) for sampling N^{k}\n",
    "\n",
    "Input: \n",
    "\n",
    "N: int. sample size\n",
    "\n",
    "sigma: float. scale in $N(0, \\sigma^{2})$\n",
    "\n",
    "Output:\n",
    "\n",
    "X: sequence of floats of length N. samples from $N(0, \\sigma^{2})$ random variables\n",
    "\n",
    "NRes: sequence of int of length N. resample results\n",
    "\n"
   ]
  },
  {
   "cell_type": "markdown",
   "metadata": {},
   "source": [
    "4.SAW(L,d,N):\n",
    "\n",
    "Generates uniform measure on SAW(d).\n",
    "\n",
    "Input:\n",
    "\n",
    "L:size of lattice\n",
    "\n",
    "d:length of walk\n",
    "\n",
    "N:sample size\n",
    "\n",
    "Output:\n",
    "\n",
    "Y: SAW(d)"
   ]
  }
 ],
 "metadata": {
  "kernelspec": {
   "display_name": "Python [conda root]",
   "language": "python",
   "name": "conda-root-py"
  },
  "language_info": {
   "codemirror_mode": {
    "name": "ipython",
    "version": 2
   },
   "file_extension": ".py",
   "mimetype": "text/x-python",
   "name": "python",
   "nbconvert_exporter": "python",
   "pygments_lexer": "ipython2",
   "version": "2.7.12"
  }
 },
 "nbformat": 4,
 "nbformat_minor": 1
}
